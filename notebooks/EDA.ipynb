{
 "cells": [
  {
   "cell_type": "markdown",
   "metadata": {},
   "source": [
    "# Proyecto Sprint 5"
   ]
  },
  {
   "cell_type": "markdown",
   "metadata": {},
   "source": [
    "## Herramienta de desarollo de Software"
   ]
  },
  {
   "cell_type": "code",
   "execution_count": 3,
   "metadata": {},
   "outputs": [
    {
     "ename": "NameError",
     "evalue": "name 'sshow_bar_chart_button' is not defined",
     "output_type": "error",
     "traceback": [
      "\u001b[1;31m---------------------------------------------------------------------------\u001b[0m",
      "\u001b[1;31mNameError\u001b[0m                                 Traceback (most recent call last)",
      "Cell \u001b[1;32mIn[3], line 52\u001b[0m\n\u001b[0;32m     50\u001b[0m \u001b[38;5;66;03m# Gráfico de barrass de tendencia temporal en la cantidad de días listado\u001b[39;00m\n\u001b[0;32m     51\u001b[0m show_bar_chart_button \u001b[38;5;241m=\u001b[39m st\u001b[38;5;241m.\u001b[39mbutton(\u001b[38;5;124m\"\u001b[39m\u001b[38;5;124mTendencia Temporal en la Cantidad de Días Listado\u001b[39m\u001b[38;5;124m\"\u001b[39m)\n\u001b[1;32m---> 52\u001b[0m \u001b[38;5;28;01mif\u001b[39;00m \u001b[43msshow_bar_chart_button\u001b[49m:\n\u001b[0;32m     53\u001b[0m     fig \u001b[38;5;241m=\u001b[39m px\u001b[38;5;241m.\u001b[39mbar(df, x\u001b[38;5;241m=\u001b[39m\u001b[38;5;124m\"\u001b[39m\u001b[38;5;124mdate_posted\u001b[39m\u001b[38;5;124m\"\u001b[39m, y\u001b[38;5;241m=\u001b[39m\u001b[38;5;124m\"\u001b[39m\u001b[38;5;124mdays_listed\u001b[39m\u001b[38;5;124m\"\u001b[39m, title\u001b[38;5;241m=\u001b[39m\u001b[38;5;124m\"\u001b[39m\u001b[38;5;124mTendencia Temporal en la Cantidad de Días Listado\u001b[39m\u001b[38;5;124m\"\u001b[39m)\n\u001b[0;32m     54\u001b[0m     st\u001b[38;5;241m.\u001b[39mpyplot(fig)\n",
      "\u001b[1;31mNameError\u001b[0m: name 'sshow_bar_chart_button' is not defined"
     ]
    }
   ],
   "source": [
    "# importación de las librerias\n",
    "import streamlit as st\n",
    "import pandas as pd\n",
    "import numpy as np\n",
    "import plotly.express as px\n",
    "\n",
    "\n",
    "# Cargar el conjunto de datos\n",
    "df = pd.read_csv('C:/Users/Barbs/Documents/GitHub/Proyecto-Sprint-5/vehicles_us.csv')\n",
    "\n",
    "# Mostrar las primeras filas del DataFrame para verificar que se haya cargado correctamente\n",
    "df\n",
    "\n",
    "import plotly.express as px\n",
    "import streamlit as st\n",
    "\n",
    "# Encabezado con texto\n",
    "st.header(\"Análisis de Anuncios de Venta de Vehículos\")\n",
    "\n",
    "# Histograma de precios\n",
    "show_price_histogram_button = st.button(\"Histograma de Precios\")\n",
    "if show_price_histogram_button:\n",
    "    fig = px.histogram(df, x=\"price\", title=\"Distribución de Precios de los Vehículos\")\n",
    "    st.pyplot(fig)\n",
    "\n",
    "# Gráfico de dispersión de precio vs. año del modelo\n",
    "show_scatter_checkbox = st.checkbox(\"Gráfico de Dispersión de Precio vs. Año del Modelo por modelo del auto\")\n",
    "if show_scatter_checkbox:\n",
    "    fig = px.scatter(df, x=\"model_year\", y=\"price\", title=\"Variación del Precio según el Año del Modelo\")\n",
    "    st.pyplot(fig)\n",
    "\n",
    "# Gráfico de dispersión de año del modelo vs. kilometraje\n",
    "show_scatter_odometer_checkbox = st.checkbox(\"Gráfico de Dispersión de Año del Modelo vs. Kilometraje\")\n",
    "if show_scatter_odometer_checkbox:\n",
    "    fig = px.scatter(df, x=\"model_year\", y=\"odometer\", title=\"Relación entre la Antigüedad del Vehículo y su Kilometraje\")\n",
    "    st.pyplot(fig)\n",
    "\n",
    "# Gráfico de barras de distribución de precios por marca\n",
    "show_bar_chart_button = st.button(\"Distribución de Precios según la Marca del Vehículo\")\n",
    "if show_bar_chart_button:\n",
    "    fig = px.bar(df, x=\"model\", y=\"price\", title=\"Distribución de Precios según la Marca del Vehículo\")\n",
    "    st.pyplot(fig)\n",
    "\n",
    "# Gráfico de barras de proporción de condiciones\n",
    "show_bar_chart_button = st.button(\"Proporción de Condiciones de los Vehículos\")\n",
    "if show_bar_chart_button:\n",
    "    fig = px.bar(df, names=\"condition\", title=\"Proporción de Condiciones de los Vehículos\")\n",
    "    st.pyplot(fig)\n",
    "\n",
    "# Gráfico de barrass de tendencia temporal en la cantidad de días listado\n",
    "show_bar_chart_button = st.button(\"Tendencia Temporal en la Cantidad de Días Listado\")\n",
    "if show_bar_chart_button:\n",
    "    fig = px.bar(df, x=\"date_posted\", y=\"days_listed\", title=\"Tendencia Temporal en la Cantidad de Días Listado\")\n",
    "    st.pyplot(fig)"
   ]
  },
  {
   "cell_type": "code",
   "execution_count": 11,
   "metadata": {},
   "outputs": [],
   "source": []
  }
 ],
 "metadata": {
  "kernelspec": {
   "display_name": "Python 3",
   "language": "python",
   "name": "python3"
  },
  "language_info": {
   "codemirror_mode": {
    "name": "ipython",
    "version": 3
   },
   "file_extension": ".py",
   "mimetype": "text/x-python",
   "name": "python",
   "nbconvert_exporter": "python",
   "pygments_lexer": "ipython3",
   "version": "3.12.2"
  }
 },
 "nbformat": 4,
 "nbformat_minor": 2
}
