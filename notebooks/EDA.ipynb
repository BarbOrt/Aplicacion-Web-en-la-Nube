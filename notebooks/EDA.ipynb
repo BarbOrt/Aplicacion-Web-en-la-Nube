{
 "cells": [
  {
   "cell_type": "markdown",
   "metadata": {},
   "source": [
    "# Proyecto Sprint 5"
   ]
  },
  {
   "cell_type": "markdown",
   "metadata": {},
   "source": [
    "## Herramienta de desarollo de Software"
   ]
  },
  {
   "cell_type": "code",
   "execution_count": 7,
   "metadata": {},
   "outputs": [],
   "source": [
    "# importación de las librerias\n",
    "import streamlit as st\n",
    "import pandas as pd\n",
    "import numpy as np\n",
    "import plotly.express as px\n",
    "\n",
    "# Cargar el conjunto de datos\n",
    "df = pd.read_csv('C:/Users/Barbs/Documents/GitHub/Proyecto-Sprint-5/vehicles_us.csv')\n",
    "\n",
    "# Mostrar las primeras filas del DataFrame para verificar que se haya cargado correctamente\n",
    "df\n",
    "\n",
    "# Encabezado con texto\n",
    "st.header(\"Análisis de Vehículos\")\n",
    "\n",
    "# Histograma de precios\n",
    "show_price_histogram_button = st.button(\"Histograma de Precios\")\n",
    "if show_price_histogram_button:\n",
    "    fig = px.histogram(df, x=\"price\", title=\"Distribución de Precios de los Vehículos\")\n",
    "    st.plotly_chart(fig, use_container_width=True)\n",
    "\n",
    "# Gráfico de dispersión de precio vs. año del modelo\n",
    "show_scatter_checkbox = st.checkbox(\"Gráfico de Dispersión de Precio vs. Año del Modelo por modelo del auto\")\n",
    "if show_scatter_checkbox:\n",
    "    fig = px.scatter(df, x=\"model_year\", y=\"price\", title=\"Variación del Precio según el Año del Modelo\")\n",
    "    st.plotly_chart(fig, use_container_width=True)\n",
    "\n",
    "# Gráfico de dispersión de año del modelo vs. kilometraje\n",
    "show_scatter_odometer_checkbox = st.checkbox(\"Gráfico de Dispersión de Año del Modelo vs. Kilometraje\")\n",
    "if show_scatter_odometer_checkbox:\n",
    "    fig = px.scatter(df, x=\"model_year\", y=\"odometer\", title=\"Relación entre la Antigüedad del Vehículo y su Kilometraje\")\n",
    "    st.plotly_chart(fig, use_container_width=True)\n",
    "\n",
    "# Gráfico de barras de distribución de precios por marca\n",
    "show_bar_chart_button = st.button(\"Distribución de Precios según la Marca del Vehículo\")\n",
    "if show_bar_chart_button:\n",
    "    fig = px.bar(df, x=\"model\", y=\"price\", title=\"Distribución de Precios según la Marca del Vehículo\")\n",
    "    st.plotly_chart(fig, use_container_width=True)\n",
    "\n",
    "# Gráfico de barras de proporción de condiciones\n",
    "show_condition_bar_button = st.button(\"Proporción de Condiciones de los Vehículos\")\n",
    "if show_condition_bar_button:\n",
    "    condition_counts = df['condition'].value_counts()\n",
    "    fig = px.bar(y=condition_counts.index, x=condition_counts.values, orientation='h', \n",
    "                 title=\"Proporción de Condiciones de los Vehículos\", \n",
    "                 labels={'y': 'Condición', 'x': 'Cantidad'})\n",
    "    st.pyplot(fig)\n",
    "\n",
    "# Gráfico de barras de tendencia temporal en la cantidad de días listado\n",
    "show_days_listed_bar_button = st.button(\"Tendencia Temporal en la Cantidad de Días Listado\")\n",
    "if show_days_listed_bar_button:\n",
    "    df['date_posted'] = pd.to_datetime(df['date_posted'])  # Convertir a formato de fecha\n",
    "    df['month_year'] = df['date_posted'].dt.to_period('M')  # Agrupar por mes y año\n",
    "    days_listed_by_month = df.groupby('month_year')['days_listed'].mean().reset_index()\n",
    "    fig = px.bar(days_listed_by_month, x='month_year', y='days_listed', \n",
    "                 title=\"Tendencia Temporal en la Cantidad de Días Listado\", \n",
    "                 labels={'month_year': 'Mes y Año', 'days_listed': 'Días Listado Promedio'})\n",
    "    st.pyplot(fig)\n"
   ]
  },
  {
   "cell_type": "code",
   "execution_count": 11,
   "metadata": {},
   "outputs": [],
   "source": []
  }
 ],
 "metadata": {
  "kernelspec": {
   "display_name": "Python 3",
   "language": "python",
   "name": "python3"
  },
  "language_info": {
   "codemirror_mode": {
    "name": "ipython",
    "version": 3
   },
   "file_extension": ".py",
   "mimetype": "text/x-python",
   "name": "python",
   "nbconvert_exporter": "python",
   "pygments_lexer": "ipython3",
   "version": "3.12.2"
  }
 },
 "nbformat": 4,
 "nbformat_minor": 2
}
