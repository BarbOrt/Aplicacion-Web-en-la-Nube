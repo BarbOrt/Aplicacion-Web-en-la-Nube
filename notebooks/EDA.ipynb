{
 "cells": [
  {
   "cell_type": "markdown",
   "metadata": {},
   "source": [
    "# Proyecto Sprint 5"
   ]
  },
  {
   "cell_type": "markdown",
   "metadata": {},
   "source": [
    "## Herramienta de desarollo de Software"
   ]
  },
  {
   "cell_type": "code",
   "execution_count": 5,
   "metadata": {},
   "outputs": [],
   "source": [
    "# importación de las librerias\n",
    "import streamlit as st\n",
    "import pandas as pd\n",
    "import numpy as np\n",
    "import plotly.express as px\n",
    "\n",
    "\n",
    "# Cargar el conjunto de datos\n",
    "df = pd.read_csv('C:/Users/Barbs/Documents/GitHub/Proyecto-Sprint-5/vehicles_us.csv')\n",
    "\n",
    "# Encabezado con texto\n",
    "st.header(\"Análisis de Anuncios de Venta de Vehículos\")\n",
    "\n",
    "# Histograma de precios\n",
    "show_price_histogram_button = st.button(\"Histograma de Precios\")\n",
    "if show_price_histogram_button:\n",
    "    fig = px.histogram(df, x=\"price\", title=\"Distribución de Precios de los Vehículos\")\n",
    "    st.plotly_chart(fig, use_container_width=True)\n",
    "\n",
    "# Gráfico de dispersión de precio vs. año del modelo\n",
    "show_scatter_checkbox = st.checkbox(\"Gráfico de Dispersión de Precio vs. Año del Modelo por modelo del auto\")\n",
    "if show_scatter_checkbox:\n",
    "    fig = px.scatter(df, x=\"model_year\", y=\"price\", title=\"Variación del Precio según el Año del Modelo\")\n",
    "    st.plotly_chart(fig, use_container_width=True)\n",
    "\n",
    "# Gráfico de dispersión de año del modelo vs. kilometraje\n",
    "show_scatter_odometer_checkbox = st.checkbox(\"Gráfico de Dispersión de Año del Modelo vs. Kilometraje\")\n",
    "if show_scatter_odometer_checkbox:\n",
    "    fig = px.scatter(df, x=\"model_year\", y=\"odometer\", title=\"Relación entre la Antigüedad del Vehículo y su Kilometraje\")\n",
    "    st.plotly_chart(fig, use_container_width=True)\n",
    "\n",
    "# Gráfico de barras de distribución de precios por marca\n",
    "show_bar_chart_button = st.button(\"Distribución de Precios según la Marca del Vehículo\")\n",
    "if show_bar_chart_button:\n",
    "    fig = px.bar(df, x=\"model\", y=\"price\", title=\"Distribución de Precios según la Marca del Vehículo\")\n",
    "    st.plotly_chart(fig, use_container_width=True)\n",
    "\n",
    "# Gráfico de torta de proporción de condiciones\n",
    "show_pie_chart_button = st.button(\"Proporción de Condiciones de los Vehículos\")\n",
    "if show_pie_chart_button:\n",
    "    fig = px.pie(df, names=\"condition\", title=\"Proporción de Condiciones de los Vehículos\")\n",
    "    st.plotly_chart(fig, use_container_width=True)\n",
    "\n",
    "# Gráfico de líneas de tendencia temporal en la cantidad de días listado\n",
    "show_line_chart_button = st.button(\"Tendencia Temporal en la Cantidad de Días Listado\")\n",
    "if show_line_chart_button:\n",
    "    fig = px.line(df, x=\"date_posted\", y=\"days_listed\", title=\"Tendencia Temporal en la Cantidad de Días Listado\")\n",
    "    st.plotly_chart(fig, use_container_width=True)"
   ]
  }
 ],
 "metadata": {
  "kernelspec": {
   "display_name": "Python 3",
   "language": "python",
   "name": "python3"
  },
  "language_info": {
   "codemirror_mode": {
    "name": "ipython",
    "version": 3
   },
   "file_extension": ".py",
   "mimetype": "text/x-python",
   "name": "python",
   "nbconvert_exporter": "python",
   "pygments_lexer": "ipython3",
   "version": "3.12.2"
  }
 },
 "nbformat": 4,
 "nbformat_minor": 2
}
